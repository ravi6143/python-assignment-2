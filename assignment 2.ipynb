{
 "cells": [
  {
   "cell_type": "code",
   "execution_count": null,
   "id": "399e5031-ec5f-4f50-b4c7-c10c2aa997fb",
   "metadata": {},
   "outputs": [],
   "source": [
    "# Question - 1\n",
    "#ans - \n"
   ]
  },
  {
   "cell_type": "code",
   "execution_count": null,
   "id": "5ebd6eef-7b78-4bc9-afeb-7bb3b4bd6a5b",
   "metadata": {},
   "outputs": [],
   "source": [
    "\"\"\" to add comments in python we can use # or ''' quotes for writing single line and multiline comments\n",
    "in above cell single line comment is used \n",
    "and in this cell multiline comments is used \"\"\"\n"
   ]
  },
  {
   "cell_type": "code",
   "execution_count": null,
   "id": "360633df-20e0-43f2-ab70-65ac68a4847c",
   "metadata": {},
   "outputs": [],
   "source": [
    "\"\"\" comments are basically of two types \n",
    "one is single line comments\n",
    "and second is multiline comments \"\"\""
   ]
  },
  {
   "cell_type": "code",
   "execution_count": null,
   "id": "d1073f1d-a28b-4866-adbb-0893ea0df1fe",
   "metadata": {},
   "outputs": [],
   "source": []
  },
  {
   "cell_type": "code",
   "execution_count": null,
   "id": "cdafa1ae-619a-4bcf-b4d5-1655b4288fc1",
   "metadata": {},
   "outputs": [],
   "source": []
  },
  {
   "cell_type": "code",
   "execution_count": null,
   "id": "92c89f50-3f0a-41f2-ac84-434f7a060cb3",
   "metadata": {},
   "outputs": [],
   "source": [
    "# Question - 2\n",
    "#ans - "
   ]
  },
  {
   "cell_type": "code",
   "execution_count": null,
   "id": "d423a7d1-d304-4984-b86b-83193c03149f",
   "metadata": {},
   "outputs": [],
   "source": [
    "\"\"\" variables are data containers which are used to store data \n",
    "they can contain different types of data such as strings, integers , complex numbers,lists\n",
    "after assigning of data to a variable we can use the data after by calling the name of variable\"\"\""
   ]
  },
  {
   "cell_type": "code",
   "execution_count": null,
   "id": "eb372414-aca3-4ccf-a8d6-0984719254d8",
   "metadata": {},
   "outputs": [],
   "source": [
    "# example of assigning of data to a variable\n",
    "name = 'ravi sharma'\n",
    "\n",
    "age = 21\n"
   ]
  },
  {
   "cell_type": "code",
   "execution_count": null,
   "id": "372d9fcd-674d-4968-ad2e-af66b5ae6ca6",
   "metadata": {},
   "outputs": [],
   "source": [
    "\"\"\" in above cell name and age are variales which contains the data that is ; 'ravi sharma'\n",
    "and 21 \"\"\""
   ]
  },
  {
   "cell_type": "code",
   "execution_count": null,
   "id": "f8e1dd62-78cd-4324-9de2-cf94fce80fc9",
   "metadata": {},
   "outputs": [],
   "source": []
  },
  {
   "cell_type": "code",
   "execution_count": null,
   "id": "352375b7-9871-4c35-b9f8-d891709bb822",
   "metadata": {},
   "outputs": [],
   "source": []
  },
  {
   "cell_type": "code",
   "execution_count": null,
   "id": "4cfb5ee6-747c-4fa6-b71a-3b9cf8f002a8",
   "metadata": {},
   "outputs": [],
   "source": [
    "# Question - 3\n",
    "# ans - "
   ]
  },
  {
   "cell_type": "code",
   "execution_count": null,
   "id": "b68e632b-a8f5-48b6-8c6d-bc6805a7121a",
   "metadata": {},
   "outputs": [],
   "source": [
    "\"\"\" in python , we can convert one data type into other data type by using conversion functions\n",
    "folloeing are examples - \"\"\""
   ]
  },
  {
   "cell_type": "code",
   "execution_count": 1,
   "id": "35990adc-d10e-4afc-adb1-ee54ecdca862",
   "metadata": {},
   "outputs": [
    {
     "data": {
      "text/plain": [
       "56"
      ]
     },
     "execution_count": 1,
     "metadata": {},
     "output_type": "execute_result"
    }
   ],
   "source": [
    "a = \"56\"\n",
    "int(a)"
   ]
  },
  {
   "cell_type": "code",
   "execution_count": 2,
   "id": "6431fba7-451d-489b-b3d5-1391ce0eec41",
   "metadata": {},
   "outputs": [
    {
     "data": {
      "text/plain": [
       "78"
      ]
     },
     "execution_count": 2,
     "metadata": {},
     "output_type": "execute_result"
    }
   ],
   "source": [
    "b = 78.90\n",
    "int(b)"
   ]
  },
  {
   "cell_type": "code",
   "execution_count": 3,
   "id": "91ef5239-bf26-493b-a211-b6abb0feec56",
   "metadata": {},
   "outputs": [
    {
     "data": {
      "text/plain": [
       "True"
      ]
     },
     "execution_count": 3,
     "metadata": {},
     "output_type": "execute_result"
    }
   ],
   "source": [
    "bool(b)"
   ]
  },
  {
   "cell_type": "code",
   "execution_count": null,
   "id": "cac132c7-89b1-41ba-a2ad-fb54b329b1ac",
   "metadata": {},
   "outputs": [],
   "source": []
  },
  {
   "cell_type": "code",
   "execution_count": null,
   "id": "7e739ed4-40be-435f-b0ef-0f4ebb9afe08",
   "metadata": {},
   "outputs": [],
   "source": []
  },
  {
   "cell_type": "code",
   "execution_count": null,
   "id": "3aaae914-547e-4253-9e7b-80c688a5951c",
   "metadata": {},
   "outputs": [],
   "source": [
    "# Question - 4 \n",
    "# ans - "
   ]
  },
  {
   "cell_type": "code",
   "execution_count": null,
   "id": "f8fe59bc-45ce-49ae-8436-66d04b259214",
   "metadata": {},
   "outputs": [],
   "source": [
    "\"\"\" first of all to write and execute python script , \n",
    "we have to write down the code in a code editor like notepad\n",
    "and have to save the file by making extension as .py\n",
    "after that we have to open command propmt and navigate the directory where script is saved by using cd.\n",
    "now we can run the python script by using python command followed by script file name \"\"\""
   ]
  },
  {
   "cell_type": "code",
   "execution_count": null,
   "id": "87511d35-9a40-4d2a-9087-50e2a699cf4d",
   "metadata": {},
   "outputs": [],
   "source": []
  },
  {
   "cell_type": "code",
   "execution_count": null,
   "id": "ec32528f-403a-4fc9-b385-f717406aa72e",
   "metadata": {},
   "outputs": [],
   "source": []
  },
  {
   "cell_type": "code",
   "execution_count": null,
   "id": "940298e1-acea-4306-8696-9edb6672757a",
   "metadata": {},
   "outputs": [],
   "source": [
    "# Question - 5\n",
    "# ans - "
   ]
  },
  {
   "cell_type": "code",
   "execution_count": 5,
   "id": "6a88018b-3622-4a3e-9c88-8bd060b246d6",
   "metadata": {},
   "outputs": [],
   "source": [
    "my_list = [1,2,3,4,5]"
   ]
  },
  {
   "cell_type": "code",
   "execution_count": 6,
   "id": "65da1d87-3515-49b0-ba22-de6df8af273d",
   "metadata": {},
   "outputs": [
    {
     "data": {
      "text/plain": [
       "[2, 3]"
      ]
     },
     "execution_count": 6,
     "metadata": {},
     "output_type": "execute_result"
    }
   ],
   "source": [
    "my_list[1:3]"
   ]
  },
  {
   "cell_type": "code",
   "execution_count": null,
   "id": "2eb2efb6-b739-45ea-865f-2af081a6a5ec",
   "metadata": {},
   "outputs": [],
   "source": []
  },
  {
   "cell_type": "code",
   "execution_count": null,
   "id": "df71f868-c421-4a7a-9059-1073e432771b",
   "metadata": {},
   "outputs": [],
   "source": []
  },
  {
   "cell_type": "code",
   "execution_count": null,
   "id": "04ee7202-3c41-44f8-b2b4-455913a41de1",
   "metadata": {},
   "outputs": [],
   "source": [
    "#Question - 6\n",
    "# ans - "
   ]
  },
  {
   "cell_type": "code",
   "execution_count": null,
   "id": "59cad2da-ed0f-497b-893a-f0191d675c8a",
   "metadata": {},
   "outputs": [],
   "source": [
    "\"\"\" in mathematics complex number is which contains real number and imaginary number\n",
    "for example - (a+bi) , \n",
    "in mathematics here is (a) and (b) are real numbers and (i) is imaginary \n",
    "\n",
    "but in python complex number is used to writedown as -   (a+bj)\n",
    "here in python (a) and (b) are real numbers and (j) is imaginary\n",
    "\n",
    "in mathematics imaginary number is used to write as (i)\n",
    "but in python it is used to write as (j) \"\"\"\n"
   ]
  },
  {
   "cell_type": "code",
   "execution_count": 8,
   "id": "43f5bd54-f8d3-4c70-a6e9-60a093974743",
   "metadata": {},
   "outputs": [],
   "source": [
    "c = 4+7j"
   ]
  },
  {
   "cell_type": "code",
   "execution_count": 9,
   "id": "d4317523-978c-4694-a737-ecc347c4fea3",
   "metadata": {},
   "outputs": [
    {
     "data": {
      "text/plain": [
       "complex"
      ]
     },
     "execution_count": 9,
     "metadata": {},
     "output_type": "execute_result"
    }
   ],
   "source": [
    "type(c)"
   ]
  },
  {
   "cell_type": "code",
   "execution_count": null,
   "id": "6967b1f9-a0d7-487f-be94-9620b60a199e",
   "metadata": {},
   "outputs": [],
   "source": []
  },
  {
   "cell_type": "code",
   "execution_count": null,
   "id": "dfb098f9-8a95-4353-9238-0dcfe6b04e17",
   "metadata": {},
   "outputs": [],
   "source": []
  },
  {
   "cell_type": "code",
   "execution_count": null,
   "id": "6503f60b-04de-4854-95d1-d4a876003932",
   "metadata": {},
   "outputs": [],
   "source": [
    "# Question - 7\n",
    "# ans -"
   ]
  },
  {
   "cell_type": "code",
   "execution_count": null,
   "id": "86c948d9-320e-4ac5-9f0e-500b4986ab96",
   "metadata": {},
   "outputs": [],
   "source": [
    "\"\"\" in python it is simple to declare a variable and assign it to a value by using assigning operator (=)"
   ]
  },
  {
   "cell_type": "code",
   "execution_count": 10,
   "id": "ccafcb5d-9981-40e8-861d-7f58d7febeb4",
   "metadata": {},
   "outputs": [],
   "source": [
    "age = 25"
   ]
  },
  {
   "cell_type": "code",
   "execution_count": 11,
   "id": "186b9096-e046-4345-9d3a-55149a4e38b7",
   "metadata": {},
   "outputs": [
    {
     "data": {
      "text/plain": [
       "25"
      ]
     },
     "execution_count": 11,
     "metadata": {},
     "output_type": "execute_result"
    }
   ],
   "source": [
    "age"
   ]
  },
  {
   "cell_type": "code",
   "execution_count": null,
   "id": "3ce1c04b-7a62-45c7-8357-cf4a4c4c3ce4",
   "metadata": {},
   "outputs": [],
   "source": []
  },
  {
   "cell_type": "code",
   "execution_count": null,
   "id": "f5792f4a-482f-48a7-8d3e-5aae2cac862f",
   "metadata": {},
   "outputs": [],
   "source": []
  },
  {
   "cell_type": "code",
   "execution_count": null,
   "id": "0bf573c9-c6cd-4e06-b1e8-1a6ef2d810c7",
   "metadata": {},
   "outputs": [],
   "source": [
    "# Question - 8\n",
    "# ans -"
   ]
  },
  {
   "cell_type": "code",
   "execution_count": 12,
   "id": "424fb789-cc72-4b1f-8190-85f47b0335ab",
   "metadata": {},
   "outputs": [],
   "source": [
    "price = 9.99"
   ]
  },
  {
   "cell_type": "code",
   "execution_count": 13,
   "id": "d808b553-6ed2-43db-ba81-31ea98ca437b",
   "metadata": {},
   "outputs": [
    {
     "data": {
      "text/plain": [
       "float"
      ]
     },
     "execution_count": 13,
     "metadata": {},
     "output_type": "execute_result"
    }
   ],
   "source": [
    "type(price)"
   ]
  },
  {
   "cell_type": "code",
   "execution_count": null,
   "id": "b7bf5812-99de-4285-9ebf-238caca1af52",
   "metadata": {},
   "outputs": [],
   "source": []
  },
  {
   "cell_type": "code",
   "execution_count": null,
   "id": "8a8b86cb-740d-4ae7-b3bb-94e888dde3c4",
   "metadata": {},
   "outputs": [],
   "source": []
  },
  {
   "cell_type": "code",
   "execution_count": null,
   "id": "0d5e65e5-9509-4198-8d46-f1d63ed00c7b",
   "metadata": {},
   "outputs": [],
   "source": [
    "# Question - 9\n",
    "# ans - "
   ]
  },
  {
   "cell_type": "code",
   "execution_count": 14,
   "id": "c9c5c258-c9ec-41ac-9e2a-ae2ba700884e",
   "metadata": {},
   "outputs": [],
   "source": [
    "name = \"Bhagwati Prasad\""
   ]
  },
  {
   "cell_type": "code",
   "execution_count": 15,
   "id": "a98aea2a-5a68-499a-9dc2-b3187efaff94",
   "metadata": {},
   "outputs": [
    {
     "name": "stdout",
     "output_type": "stream",
     "text": [
      "Bhagwati Prasad\n"
     ]
    }
   ],
   "source": [
    "print(name)"
   ]
  },
  {
   "cell_type": "code",
   "execution_count": null,
   "id": "c266a1ae-ee88-4423-83e2-c4316174f9a3",
   "metadata": {},
   "outputs": [],
   "source": []
  },
  {
   "cell_type": "code",
   "execution_count": null,
   "id": "3b805885-212a-4c92-830f-7f66ce970fa5",
   "metadata": {},
   "outputs": [],
   "source": []
  },
  {
   "cell_type": "code",
   "execution_count": null,
   "id": "5c6abcd8-6496-45cf-b33c-ed8517d3285e",
   "metadata": {},
   "outputs": [],
   "source": [
    "# Question - 10\n",
    "#ans - "
   ]
  },
  {
   "cell_type": "code",
   "execution_count": 16,
   "id": "54b7a186-1c86-4ab6-b540-50ab80ce4ab1",
   "metadata": {},
   "outputs": [],
   "source": [
    "s = \"hello,world\""
   ]
  },
  {
   "cell_type": "code",
   "execution_count": 22,
   "id": "900d3b82-093b-43a2-b6af-4e74493d7e49",
   "metadata": {},
   "outputs": [
    {
     "data": {
      "text/plain": [
       "',world'"
      ]
     },
     "execution_count": 22,
     "metadata": {},
     "output_type": "execute_result"
    }
   ],
   "source": [
    "s[5:]\n"
   ]
  },
  {
   "cell_type": "code",
   "execution_count": null,
   "id": "f09bd6a9-2c35-4087-b660-c1597949561a",
   "metadata": {},
   "outputs": [],
   "source": []
  },
  {
   "cell_type": "code",
   "execution_count": null,
   "id": "f760ff0c-3a6c-4bd1-8981-225426e80539",
   "metadata": {},
   "outputs": [],
   "source": []
  },
  {
   "cell_type": "code",
   "execution_count": null,
   "id": "93676664-c2b0-4fa2-9ec9-a8e53e8e56ab",
   "metadata": {},
   "outputs": [],
   "source": [
    "# Question - 11 \n",
    "# ans - "
   ]
  },
  {
   "cell_type": "code",
   "execution_count": 26,
   "id": "937234d7-c389-403a-8b01-dac292ea2aad",
   "metadata": {},
   "outputs": [],
   "source": [
    "is_student = True"
   ]
  },
  {
   "cell_type": "code",
   "execution_count": null,
   "id": "2b0c3c80-f8bd-4bf5-8bfd-0ba316438517",
   "metadata": {},
   "outputs": [],
   "source": [
    "\"\"\" here True is a boolean value which is assigned to variable named is_student\n",
    "that indicates i am a student\"\"\""
   ]
  },
  {
   "cell_type": "code",
   "execution_count": 27,
   "id": "085390ab-cbb4-4ecc-8a06-0ce57423ec7d",
   "metadata": {},
   "outputs": [],
   "source": [
    "is_student = False"
   ]
  },
  {
   "cell_type": "code",
   "execution_count": null,
   "id": "b13eb4e8-9312-4f55-9a9a-355b1ba13746",
   "metadata": {},
   "outputs": [],
   "source": [
    "\"\"\" here is_student is assigned with boolean value False\n",
    "which indicates i am not a student"
   ]
  }
 ],
 "metadata": {
  "kernelspec": {
   "display_name": "Python 3 (ipykernel)",
   "language": "python",
   "name": "python3"
  },
  "language_info": {
   "codemirror_mode": {
    "name": "ipython",
    "version": 3
   },
   "file_extension": ".py",
   "mimetype": "text/x-python",
   "name": "python",
   "nbconvert_exporter": "python",
   "pygments_lexer": "ipython3",
   "version": "3.10.8"
  }
 },
 "nbformat": 4,
 "nbformat_minor": 5
}
